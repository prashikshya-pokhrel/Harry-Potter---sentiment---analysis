{
 "cells": [
  {
   "cell_type": "markdown",
   "metadata": {},
   "source": [
    "# How Did J.K. Rowling's Controversy Affect Harry Potter Reviews?"
   ]
  },
  {
   "cell_type": "markdown",
   "metadata": {},
   "source": [
    "#### Prashikshya Pokhrel, Annette Darpoh & Jasmine Samulonis"
   ]
  },
  {
   "cell_type": "markdown",
   "metadata": {},
   "source": [
    "## Introduction"
   ]
  },
  {
   "cell_type": "markdown",
   "metadata": {},
   "source": [
    "### Problem statement"
   ]
  },
  {
   "cell_type": "markdown",
   "metadata": {},
   "source": [
    "- *For our project, we aim to examine the impact of an author’s political stance in the audience's reviews of their work. In order to address this topic, we chose to analyze reviews of J.K. Rowling’s series, Harry Potter. This series was chosen because of J.K. Rowling’s controversial persona in the public sphere, most notably in regard to her transphobic comments on social media. Rowling’s transphobia ultimately culminated in 2019 in a tweet that claimed “sex is real” and included the hashtag “#IStandWithMaya”. Her comment resulted in many loyal Harry Potter fans expressing their disappointment in Rowling’s transphobic and TERF-aligned ideology. The tweet, which now has over 300k likes and 38k comments, only ignited Rowling’s transphobic comments on social media further, and in 2020 she published an essay regarding her political stance online. Rowling continues to make transphobic comments on her social media accounts, which has left fans and audiences alike to question whether they still want to support the Harry Potter series.*\n",
    "\n",
    "-  *Citation (authors, year: title): Ralston, 2022: Separating the art from its artist: Film reviews in the era of #MeToo*\n",
    "- *Summary: In the paper “Separating the art from its artist: Film reviews in the era of #MeToo”, Reid Ralston parses through the ways in which audiences and film critics navigate the ethical challenges of reviewing films whose creators have been accused of sexual misconduct. The study highlights the specific context of the #MeToo movement in Hollywood and its complexities on the impact of audience/critic reviews.*"
   ]
  },
  {
   "cell_type": "markdown",
   "metadata": {},
   "source": [
    "### Research Question"
   ]
  },
  {
   "cell_type": "markdown",
   "metadata": {},
   "source": [
    "How has public sentiment toward Harry Potter changed before and after J.K. Rowling’s 2020 controversy?"
   ]
  },
  {
   "cell_type": "markdown",
   "metadata": {},
   "source": [
    "### Data overview and analysis plan"
   ]
  },
  {
   "cell_type": "markdown",
   "metadata": {},
   "source": [
    "- *We are using a dataset containing Harry Potter book reviews with associated timestamps and review text.*\n",
    "- *We will use sentiment analysis tools (TextBlob) to extract sentiment scores and compare these scores before and after June 2020. We will also use word frequency to examine shifts in tone or focus.*\n",
    "- *Pang and Lee’s 2008 survey lays out two main ways to do sentiment analysis: using a predefined list of positive and negative words (“lexicon-based”) or training a machine-learning model on examples of text with known sentiment. We follow their lexicon-based approach by using TextBlob to assign each review a polarity score based on word lists. They also stress that you first need to tell apart factual from opinionated text (“subjectivity detection”) before scoring sentiment; we do this by looking at TextBlob’s subjectivity values to see which reviews are more opinion-heavy. Pang and Lee warn that simple word counts can miss things like negation or intensity, so they recommend careful text cleaning which is why we remove punctuation, lemmatize words, and filter stopwords before scoring. Finally, they urge rigorous evaluation beyond raw accuracy; in line with that, we use statistical tests (OLS regression) to check whether average sentiment really shifts before versus after the controversy.*\n",
    "- *The foundational work of Pang, Lee, and Vaithyanathan (2002) demonstrates the viability of machine learning (e.g., SVM, Naive Bayes) for sentiment classification, achieving 82% accuracy on movie reviews by treating sentiment as a binary (positive/negative) problem. While their approach outperformed early lexicon-based methods, it required labeled training data—a resource-intensive step our project avoided by using TextBlob’s predefined word lists. This trade-off aligns with Pang et al.’s observation that lexicon methods, though less precise, offer transparency and efficiency for smaller datasets like ours (720 reviews). Their findings also underscore a key limitation we encountered: lexicon tools struggle with contextual nuances (e.g., sarcasm or domain-specific phrasing like “magical” being positive for Harry Potter but negative for political new). Future work could hybridize our approach with Pang et al.’s ML techniques to improve accuracy, especially for ambiguous reviews.*"
   ]
  },
  {
   "cell_type": "markdown",
   "metadata": {},
   "source": [
    "### Expected findings/hypotheses"
   ]
  },
  {
   "cell_type": "markdown",
   "metadata": {},
   "source": [
    "*We expect that:*\n",
    "\n",
    "- Reviews after June 2020 will show a more negative or polarized sentiment.\n",
    "\n",
    "- Words such as \"Rowling\", \"transphobia\", or \"author\" will appear more in the post-controversy period."
   ]
  },
  {
   "cell_type": "markdown",
   "metadata": {},
   "source": [
    "## Data description/Overview"
   ]
  },
  {
   "cell_type": "markdown",
   "metadata": {
    "vscode": {
     "languageId": "plaintext"
    }
   },
   "source": [
    "We used a Harry Potter review dataset collected from Kaggle, containing user reviews of the book series. This dataset provides insight into how readers have rated and described their experience with Harry Potter books over time. "
   ]
  },
  {
   "cell_type": "markdown",
   "metadata": {},
   "source": [
    "##### Where did we get it?\n",
    "The dataset was sourced from Kaggle and includes Goodreads-style user reviews for the Harry Potter series."
   ]
  },
  {
   "cell_type": "markdown",
   "metadata": {},
   "source": [
    "##### How many observations do it contain?\n",
    "There are 720 individual review entries, each associated with a reviewer, a specific book, a rating, a date, and a written review."
   ]
  },
  {
   "cell_type": "markdown",
   "metadata": {},
   "source": [
    "##### What other meta data is present? \n",
    "\n",
    "- book: The title of the Harry Potter book being reviewed\n",
    "\n",
    "- name: Username of the reviewer\n",
    "\n",
    "- date: Date of the review \n",
    "\n",
    "- rating: Text-based rating (e.g., \"itwasamazing\")\n",
    "\n",
    "- stars_given: Numeric star rating (1–5)\n",
    "\n",
    "- likes: Number of likes the review received (in string format like \"1657 likes\")\n",
    "\n",
    "- description: The full review text"
   ]
  },
  {
   "cell_type": "markdown",
   "metadata": {},
   "source": [
    "We'll be focusing on the description, stars_given, and date columns for our sentiment analysis. The columns like \"likes\" and \"book\" titles will help us with potential subgroup analysis later on."
   ]
  },
  {
   "cell_type": "markdown",
   "metadata": {
    "vscode": {
     "languageId": "plaintext"
    }
   },
   "source": [
    "## Pre-processing steps"
   ]
  },
  {
   "cell_type": "code",
   "execution_count": 1,
   "metadata": {},
   "outputs": [
    {
     "name": "stdout",
     "output_type": "stream",
     "text": [
      "['a', 'about', 'above', 'after', 'again', 'against', 'ain', 'all', 'am', 'an', 'and', 'any', 'are', 'aren', \"aren't\", 'as', 'at', 'be', 'because', 'been', 'before', 'being', 'below', 'between', 'both', 'but', 'by', 'can', 'couldn', \"couldn't\", 'd', 'did', 'didn', \"didn't\", 'do', 'does', 'doesn', \"doesn't\", 'doing', 'don', \"don't\", 'down', 'during', 'each', 'few', 'for', 'from', 'further', 'had', 'hadn', \"hadn't\", 'has', 'hasn', \"hasn't\", 'have', 'haven', \"haven't\", 'having', 'he', \"he'd\", \"he'll\", 'her', 'here', 'hers', 'herself', \"he's\", 'him', 'himself', 'his', 'how', 'i', \"i'd\", 'if', \"i'll\", \"i'm\", 'in', 'into', 'is', 'isn', \"isn't\", 'it', \"it'd\", \"it'll\", \"it's\", 'its', 'itself', \"i've\", 'just', 'll', 'm', 'ma', 'me', 'mightn', \"mightn't\", 'more', 'most', 'mustn', \"mustn't\", 'my', 'myself', 'needn', \"needn't\", 'no', 'nor', 'not', 'now', 'o', 'of', 'off', 'on', 'once', 'only', 'or', 'other', 'our', 'ours', 'ourselves', 'out', 'over', 'own', 're', 's', 'same', 'shan', \"shan't\", 'she', \"she'd\", \"she'll\", \"she's\", 'should', 'shouldn', \"shouldn't\", \"should've\", 'so', 'some', 'such', 't', 'than', 'that', \"that'll\", 'the', 'their', 'theirs', 'them', 'themselves', 'then', 'there', 'these', 'they', \"they'd\", \"they'll\", \"they're\", \"they've\", 'this', 'those', 'through', 'to', 'too', 'under', 'until', 'up', 've', 'very', 'was', 'wasn', \"wasn't\", 'we', \"we'd\", \"we'll\", \"we're\", 'were', 'weren', \"weren't\", \"we've\", 'what', 'when', 'where', 'which', 'while', 'who', 'whom', 'why', 'will', 'with', 'won', \"won't\", 'wouldn', \"wouldn't\", 'y', 'you', \"you'd\", \"you'll\", 'your', \"you're\", 'yours', 'yourself', 'yourselves', \"you've\"]\n"
     ]
    },
    {
     "name": "stderr",
     "output_type": "stream",
     "text": [
      "[nltk_data] Downloading package stopwords to /home/jupyter-\n",
      "[nltk_data]     pokhr24p/nltk_data...\n",
      "[nltk_data]   Package stopwords is already up-to-date!\n"
     ]
    }
   ],
   "source": [
    "import pandas as pd\n",
    "import numpy as np\n",
    "from textblob import TextBlob\n",
    "import matplotlib.pyplot as plt\n",
    "import seaborn as sns\n",
    "import string\n",
    "\n",
    "# relevant functions and methods from NLTK\n",
    "import nltk\n",
    "from nltk import word_tokenize\n",
    "from nltk.probability import FreqDist\n",
    "from nltk.corpus import stopwords\n",
    "from nltk.stem import PorterStemmer\n",
    "from nltk.stem import WordNetLemmatizer\n",
    "nltk.download('stopwords')\n",
    "print(stopwords.words('english'))\n",
    "import statsmodels.formula.api as smf\n",
    "\n"
   ]
  },
  {
   "cell_type": "markdown",
   "metadata": {},
   "source": [
    "##### Importing Dataset"
   ]
  },
  {
   "cell_type": "code",
   "execution_count": 2,
   "metadata": {
    "vscode": {
     "languageId": "plaintext"
    }
   },
   "outputs": [
    {
     "name": "stdout",
     "output_type": "stream",
     "text": [
      "Total reviews: 720\n",
      "Star ratings distribution:\n",
      " stars_given\n",
      "5.0    468\n",
      "4.0    118\n",
      "3.0     46\n",
      "1.0     32\n",
      "2.0     26\n",
      "Name: count, dtype: int64\n"
     ]
    }
   ],
   "source": [
    "# Load dataset\n",
    "df = pd.read_csv(\"Harry Potter Dataset.csv\")\n",
    "\n",
    "# Look at first the few rows\n",
    "df.head()\n",
    "\n",
    "# Check how many reviews and how many unique star ratings\n",
    "print(\"Total reviews:\", len(df))\n",
    "print(\"Star ratings distribution:\\n\", df['stars_given'].value_counts())"
   ]
  },
  {
   "cell_type": "markdown",
   "metadata": {},
   "source": [
    "##### Data Preprocessing: Handling Missing Values and Normalizing Text"
   ]
  },
  {
   "cell_type": "code",
   "execution_count": 3,
   "metadata": {},
   "outputs": [
    {
     "name": "stdout",
     "output_type": "stream",
     "text": [
      "Total reviews after cleaning: 688\n",
      "<class 'pandas.core.frame.DataFrame'>\n",
      "Index: 688 entries, 0 to 719\n",
      "Data columns (total 8 columns):\n",
      " #   Column       Non-Null Count  Dtype  \n",
      "---  ------       --------------  -----  \n",
      " 0   Unnamed: 0   688 non-null    int64  \n",
      " 1   book         688 non-null    object \n",
      " 2   name         688 non-null    object \n",
      " 3   date         688 non-null    object \n",
      " 4   rating       688 non-null    object \n",
      " 5   likes        688 non-null    object \n",
      " 6   description  688 non-null    object \n",
      " 7   stars_given  688 non-null    float64\n",
      "dtypes: float64(1), int64(1), object(6)\n",
      "memory usage: 48.4+ KB\n"
     ]
    }
   ],
   "source": [
    "# Drop rows missing review text or star rating\n",
    "df = df.dropna(subset=['description', 'stars_given'])\n",
    "\n",
    "# Normalize the review text\n",
    "df['description'] = df['description'].astype(str).str.lower().str.strip()\n",
    "\n",
    "# Remove duplicate rows based on review + rating\n",
    "cleaned_df = df.drop_duplicates(subset=['description', 'stars_given'])\n",
    "\n",
    "# Summary after cleaning\n",
    "print(f\"Total reviews after cleaning: {len(cleaned_df)}\")\n",
    "cleaned_df.info()"
   ]
  },
  {
   "cell_type": "markdown",
   "metadata": {},
   "source": [
    "##### Customize the punctuation list"
   ]
  },
  {
   "cell_type": "code",
   "execution_count": 4,
   "metadata": {},
   "outputs": [
    {
     "name": "stdout",
     "output_type": "stream",
     "text": [
      "Original list of strings from string.punctuation:\n",
      "!\"#$%&'()*+,-./:;<=>?@[\\]^_`{|}~\n",
      "\n",
      "New list of strings after custom addition to string.punctuation:\n",
      "!\"#$%&'()+,-./:;<=>?@[\\]^_`{|}~’’\"“”*\n"
     ]
    }
   ],
   "source": [
    "punctuation_from_string_pkg = string.punctuation\n",
    "\n",
    "print('Original list of strings from string.punctuation:')\n",
    "print(punctuation_from_string_pkg)\n",
    "\n",
    "# Customize the punctuation list:\n",
    "punctuation_custom = punctuation_from_string_pkg.replace('*', '')\n",
    "punctuation_custom = punctuation_custom + '''’’\"“”*'''\n",
    "\n",
    "print('\\n' + 'New list of strings after custom addition to string.punctuation:')\n",
    "print(punctuation_custom)"
   ]
  },
  {
   "cell_type": "markdown",
   "metadata": {},
   "source": [
    "##### Tokenize into basic tokens"
   ]
  },
  {
   "cell_type": "code",
   "execution_count": 5,
   "metadata": {},
   "outputs": [
    {
     "data": {
      "text/html": [
       "<div>\n",
       "<style scoped>\n",
       "    .dataframe tbody tr th:only-of-type {\n",
       "        vertical-align: middle;\n",
       "    }\n",
       "\n",
       "    .dataframe tbody tr th {\n",
       "        vertical-align: top;\n",
       "    }\n",
       "\n",
       "    .dataframe thead th {\n",
       "        text-align: right;\n",
       "    }\n",
       "</style>\n",
       "<table border=\"1\" class=\"dataframe\">\n",
       "  <thead>\n",
       "    <tr style=\"text-align: right;\">\n",
       "      <th></th>\n",
       "      <th>description</th>\n",
       "      <th>basic_tokens</th>\n",
       "    </tr>\n",
       "  </thead>\n",
       "  <tbody>\n",
       "    <tr>\n",
       "      <th>0</th>\n",
       "      <td>stuck at home? got some time on your hands? wa...</td>\n",
       "      <td>[stuck, at, home, got, some, time, on, your, h...</td>\n",
       "    </tr>\n",
       "    <tr>\n",
       "      <th>2</th>\n",
       "      <td>i'm going to keep this brief since there isn't...</td>\n",
       "      <td>[im, going, to, keep, this, brief, since, ther...</td>\n",
       "    </tr>\n",
       "    <tr>\n",
       "      <th>3</th>\n",
       "      <td>my original review was a comparison of sorts b...</td>\n",
       "      <td>[my, original, review, was, a, comparison, of,...</td>\n",
       "    </tr>\n",
       "    <tr>\n",
       "      <th>4</th>\n",
       "      <td>one of my first jobs was at a bookstore. when ...</td>\n",
       "      <td>[one, of, my, first, jobs, was, at, a, booksto...</td>\n",
       "    </tr>\n",
       "    <tr>\n",
       "      <th>5</th>\n",
       "      <td>rereading for the 3rd time for the group read....</td>\n",
       "      <td>[rereading, for, the, 3rd, time, for, the, gro...</td>\n",
       "    </tr>\n",
       "  </tbody>\n",
       "</table>\n",
       "</div>"
      ],
      "text/plain": [
       "                                         description  \\\n",
       "0  stuck at home? got some time on your hands? wa...   \n",
       "2  i'm going to keep this brief since there isn't...   \n",
       "3  my original review was a comparison of sorts b...   \n",
       "4  one of my first jobs was at a bookstore. when ...   \n",
       "5  rereading for the 3rd time for the group read....   \n",
       "\n",
       "                                        basic_tokens  \n",
       "0  [stuck, at, home, got, some, time, on, your, h...  \n",
       "2  [im, going, to, keep, this, brief, since, ther...  \n",
       "3  [my, original, review, was, a, comparison, of,...  \n",
       "4  [one, of, my, first, jobs, was, at, a, booksto...  \n",
       "5  [rereading, for, the, 3rd, time, for, the, gro...  "
      ]
     },
     "execution_count": 5,
     "metadata": {},
     "output_type": "execute_result"
    }
   ],
   "source": [
    "# Define function to apply cleaning steps\n",
    "def clean_review_text(text):\n",
    "    # Remove punctuation using str.translate\n",
    "    no_punct = text.translate(str.maketrans('', '', punctuation_custom))\n",
    "\n",
    "    # Convert to lowercase\n",
    "    lowercase = no_punct.lower()\n",
    "    \n",
    "    # Tokenize (split by spaces)\n",
    "    words = lowercase.split()\n",
    "    \n",
    "    return words\n",
    "\n",
    "# Apply to the dataset\n",
    "df['basic_tokens'] = df['description'].apply(clean_review_text)\n",
    "\n",
    "# Preview\n",
    "df[['description', 'basic_tokens']].head()"
   ]
  },
  {
   "cell_type": "markdown",
   "metadata": {},
   "source": [
    "##### Remove all stop-words"
   ]
  },
  {
   "cell_type": "code",
   "execution_count": 6,
   "metadata": {},
   "outputs": [
    {
     "data": {
      "text/html": [
       "<div>\n",
       "<style scoped>\n",
       "    .dataframe tbody tr th:only-of-type {\n",
       "        vertical-align: middle;\n",
       "    }\n",
       "\n",
       "    .dataframe tbody tr th {\n",
       "        vertical-align: top;\n",
       "    }\n",
       "\n",
       "    .dataframe thead th {\n",
       "        text-align: right;\n",
       "    }\n",
       "</style>\n",
       "<table border=\"1\" class=\"dataframe\">\n",
       "  <thead>\n",
       "    <tr style=\"text-align: right;\">\n",
       "      <th></th>\n",
       "      <th>basic_tokens</th>\n",
       "      <th>tokens_no_stopwords</th>\n",
       "    </tr>\n",
       "  </thead>\n",
       "  <tbody>\n",
       "    <tr>\n",
       "      <th>0</th>\n",
       "      <td>[stuck, at, home, got, some, time, on, your, h...</td>\n",
       "      <td>[stuck, home, got, time, hands, want, start, l...</td>\n",
       "    </tr>\n",
       "    <tr>\n",
       "      <th>2</th>\n",
       "      <td>[im, going, to, keep, this, brief, since, ther...</td>\n",
       "      <td>[im, going, keep, brief, since, isnt, much, sa...</td>\n",
       "    </tr>\n",
       "    <tr>\n",
       "      <th>3</th>\n",
       "      <td>[my, original, review, was, a, comparison, of,...</td>\n",
       "      <td>[original, review, comparison, sorts, harry, p...</td>\n",
       "    </tr>\n",
       "    <tr>\n",
       "      <th>4</th>\n",
       "      <td>[one, of, my, first, jobs, was, at, a, booksto...</td>\n",
       "      <td>[one, first, jobs, bookstore, kid, mom, would,...</td>\n",
       "    </tr>\n",
       "    <tr>\n",
       "      <th>5</th>\n",
       "      <td>[rereading, for, the, 3rd, time, for, the, gro...</td>\n",
       "      <td>[rereading, 3rd, time, group, readonce, upon, ...</td>\n",
       "    </tr>\n",
       "  </tbody>\n",
       "</table>\n",
       "</div>"
      ],
      "text/plain": [
       "                                        basic_tokens  \\\n",
       "0  [stuck, at, home, got, some, time, on, your, h...   \n",
       "2  [im, going, to, keep, this, brief, since, ther...   \n",
       "3  [my, original, review, was, a, comparison, of,...   \n",
       "4  [one, of, my, first, jobs, was, at, a, booksto...   \n",
       "5  [rereading, for, the, 3rd, time, for, the, gro...   \n",
       "\n",
       "                                 tokens_no_stopwords  \n",
       "0  [stuck, home, got, time, hands, want, start, l...  \n",
       "2  [im, going, keep, brief, since, isnt, much, sa...  \n",
       "3  [original, review, comparison, sorts, harry, p...  \n",
       "4  [one, first, jobs, bookstore, kid, mom, would,...  \n",
       "5  [rereading, 3rd, time, group, readonce, upon, ...  "
      ]
     },
     "execution_count": 6,
     "metadata": {},
     "output_type": "execute_result"
    }
   ],
   "source": [
    "# Load the full NLTK English stop‑word list\n",
    "stop_words = set(stopwords.words('english'))\n",
    "\n",
    "# A list of tokens per review\n",
    "def remove_all_stopwords(tokens):\n",
    "    return [token for token in tokens if token not in stop_words]\n",
    "\n",
    "# Apply to the dataframe\n",
    "df['tokens_no_stopwords'] = df['basic_tokens'].apply(remove_all_stopwords)\n",
    "\n",
    "# Preview\n",
    "df[['basic_tokens', 'tokens_no_stopwords']].head()\n"
   ]
  },
  {
   "cell_type": "markdown",
   "metadata": {},
   "source": [
    "##### Word-frequency of raw tokens"
   ]
  },
  {
   "cell_type": "code",
   "execution_count": 7,
   "metadata": {},
   "outputs": [
    {
     "name": "stdout",
     "output_type": "stream",
     "text": [
      "[('harry', 3061), ('book', 2361), ('potter', 1558), ('one', 1146), ('like', 1105), ('read', 1103), ('series', 1080), ('time', 869), ('books', 820), ('first', 761), ('im', 757), ('much', 739), ('love', 719), ('really', 677), ('even', 645), ('know', 626), ('dont', 609), ('would', 600), ('reading', 556), ('still', 543), ('characters', 540), ('get', 519), ('rowling', 518), ('world', 515), ('story', 509)]\n"
     ]
    },
    {
     "data": {
      "text/plain": [
       "<Axes: xlabel='Samples', ylabel='Counts'>"
      ]
     },
     "execution_count": 7,
     "metadata": {},
     "output_type": "execute_result"
    },
    {
     "data": {
      "image/png": "[encoded data removed]",
      "text/plain": [
       "<Figure size 640x480 with 1 Axes>"
      ]
     },
     "metadata": {},
     "output_type": "display_data"
    }
   ],
   "source": [
    "# Flatten the list of token lists (already stop‑words removed)\n",
    "all_tokens_no_sw = [token for tokens in df['tokens_no_stopwords'] for token in tokens]\n",
    "\n",
    "# Compute & print the 25 most common tokens\n",
    "print(FreqDist(all_tokens_no_sw).most_common(25))\n",
    "FreqDist(all_tokens_no_sw).plot(25)"
   ]
  },
  {
   "cell_type": "markdown",
   "metadata": {},
   "source": [
    "##### Lemmatize tokens and rebuild strings"
   ]
  },
  {
   "cell_type": "code",
   "execution_count": 8,
   "metadata": {},
   "outputs": [
    {
     "data": {
      "text/html": [
       "<div>\n",
       "<style scoped>\n",
       "    .dataframe tbody tr th:only-of-type {\n",
       "        vertical-align: middle;\n",
       "    }\n",
       "\n",
       "    .dataframe tbody tr th {\n",
       "        vertical-align: top;\n",
       "    }\n",
       "\n",
       "    .dataframe thead th {\n",
       "        text-align: right;\n",
       "    }\n",
       "</style>\n",
       "<table border=\"1\" class=\"dataframe\">\n",
       "  <thead>\n",
       "    <tr style=\"text-align: right;\">\n",
       "      <th></th>\n",
       "      <th>tokens_no_stopwords</th>\n",
       "      <th>lemmas</th>\n",
       "      <th>review_lemmas</th>\n",
       "    </tr>\n",
       "  </thead>\n",
       "  <tbody>\n",
       "    <tr>\n",
       "      <th>0</th>\n",
       "      <td>[stuck, home, got, time, hands, want, start, l...</td>\n",
       "      <td>[stuck, home, got, time, hand, want, start, lo...</td>\n",
       "      <td>stuck home got time hand want start long serie...</td>\n",
       "    </tr>\n",
       "    <tr>\n",
       "      <th>2</th>\n",
       "      <td>[im, going, keep, brief, since, isnt, much, sa...</td>\n",
       "      <td>[im, going, keep, brief, since, isnt, much, sa...</td>\n",
       "      <td>im going keep brief since isnt much say hasnt ...</td>\n",
       "    </tr>\n",
       "    <tr>\n",
       "      <th>3</th>\n",
       "      <td>[original, review, comparison, sorts, harry, p...</td>\n",
       "      <td>[original, review, comparison, sort, harry, po...</td>\n",
       "      <td>original review comparison sort harry potter t...</td>\n",
       "    </tr>\n",
       "    <tr>\n",
       "      <th>4</th>\n",
       "      <td>[one, first, jobs, bookstore, kid, mom, would,...</td>\n",
       "      <td>[one, first, job, bookstore, kid, mom, would, ...</td>\n",
       "      <td>one first job bookstore kid mom would take mal...</td>\n",
       "    </tr>\n",
       "    <tr>\n",
       "      <th>5</th>\n",
       "      <td>[rereading, 3rd, time, group, readonce, upon, ...</td>\n",
       "      <td>[rereading, 3rd, time, group, readonce, upon, ...</td>\n",
       "      <td>rereading 3rd time group readonce upon time 10...</td>\n",
       "    </tr>\n",
       "  </tbody>\n",
       "</table>\n",
       "</div>"
      ],
      "text/plain": [
       "                                 tokens_no_stopwords  \\\n",
       "0  [stuck, home, got, time, hands, want, start, l...   \n",
       "2  [im, going, keep, brief, since, isnt, much, sa...   \n",
       "3  [original, review, comparison, sorts, harry, p...   \n",
       "4  [one, first, jobs, bookstore, kid, mom, would,...   \n",
       "5  [rereading, 3rd, time, group, readonce, upon, ...   \n",
       "\n",
       "                                              lemmas  \\\n",
       "0  [stuck, home, got, time, hand, want, start, lo...   \n",
       "2  [im, going, keep, brief, since, isnt, much, sa...   \n",
       "3  [original, review, comparison, sort, harry, po...   \n",
       "4  [one, first, job, bookstore, kid, mom, would, ...   \n",
       "5  [rereading, 3rd, time, group, readonce, upon, ...   \n",
       "\n",
       "                                       review_lemmas  \n",
       "0  stuck home got time hand want start long serie...  \n",
       "2  im going keep brief since isnt much say hasnt ...  \n",
       "3  original review comparison sort harry potter t...  \n",
       "4  one first job bookstore kid mom would take mal...  \n",
       "5  rereading 3rd time group readonce upon time 10...  "
      ]
     },
     "execution_count": 8,
     "metadata": {},
     "output_type": "execute_result"
    }
   ],
   "source": [
    "# Initialize the lemmatizer\n",
    "lemmatizer = WordNetLemmatizer()\n",
    "\n",
    "# Define a function to lemmatize each token\n",
    "def lemmatize_tokens(tokens):\n",
    "    return [lemmatizer.lemmatize(token) for token in tokens]\n",
    "\n",
    "# Apply to the column of tokens without stopwords\n",
    "df['lemmas'] = df['tokens_no_stopwords'].apply(lemmatize_tokens)\n",
    "\n",
    "# Join back into a string for each review\n",
    "df['review_lemmas'] = df['lemmas'].apply(lambda toks: ' '.join(toks))\n",
    "\n",
    "# Preview the result\n",
    "df[['tokens_no_stopwords', 'lemmas', 'review_lemmas']].head()"
   ]
  },
  {
   "cell_type": "markdown",
   "metadata": {},
   "source": [
    "##### Parse Dates & Create Pre/Post Split"
   ]
  },
  {
   "cell_type": "code",
   "execution_count": 9,
   "metadata": {},
   "outputs": [
    {
     "name": "stdout",
     "output_type": "stream",
     "text": [
      "period\n",
      "pre     642\n",
      "post     47\n",
      "Name: count, dtype: int64\n"
     ]
    },
    {
     "data": {
      "text/html": [
       "<div>\n",
       "<style scoped>\n",
       "    .dataframe tbody tr th:only-of-type {\n",
       "        vertical-align: middle;\n",
       "    }\n",
       "\n",
       "    .dataframe tbody tr th {\n",
       "        vertical-align: top;\n",
       "    }\n",
       "\n",
       "    .dataframe thead th {\n",
       "        text-align: right;\n",
       "    }\n",
       "</style>\n",
       "<table border=\"1\" class=\"dataframe\">\n",
       "  <thead>\n",
       "    <tr style=\"text-align: right;\">\n",
       "      <th></th>\n",
       "      <th>date</th>\n",
       "      <th>date_cleaned</th>\n",
       "      <th>period</th>\n",
       "    </tr>\n",
       "  </thead>\n",
       "  <tbody>\n",
       "    <tr>\n",
       "      <th>0</th>\n",
       "      <td>Nov11,2019</td>\n",
       "      <td>2019-11-11</td>\n",
       "      <td>pre</td>\n",
       "    </tr>\n",
       "    <tr>\n",
       "      <th>2</th>\n",
       "      <td>Jun03,2011</td>\n",
       "      <td>2011-06-03</td>\n",
       "      <td>pre</td>\n",
       "    </tr>\n",
       "    <tr>\n",
       "      <th>3</th>\n",
       "      <td>Dec10,2009</td>\n",
       "      <td>2009-12-10</td>\n",
       "      <td>pre</td>\n",
       "    </tr>\n",
       "    <tr>\n",
       "      <th>4</th>\n",
       "      <td>Jan08,2013</td>\n",
       "      <td>2013-01-08</td>\n",
       "      <td>pre</td>\n",
       "    </tr>\n",
       "    <tr>\n",
       "      <th>5</th>\n",
       "      <td>Jun10,2012</td>\n",
       "      <td>2012-06-10</td>\n",
       "      <td>pre</td>\n",
       "    </tr>\n",
       "  </tbody>\n",
       "</table>\n",
       "</div>"
      ],
      "text/plain": [
       "         date date_cleaned period\n",
       "0  Nov11,2019   2019-11-11    pre\n",
       "2  Jun03,2011   2011-06-03    pre\n",
       "3  Dec10,2009   2009-12-10    pre\n",
       "4  Jan08,2013   2013-01-08    pre\n",
       "5  Jun10,2012   2012-06-10    pre"
      ]
     },
     "execution_count": 9,
     "metadata": {},
     "output_type": "execute_result"
    }
   ],
   "source": [
    "# Strip whitespace\n",
    "df['date'] = df['date'].astype(str).str.strip()\n",
    "\n",
    "# Parse with the exact format (e.g. 'Nov11,2019')\n",
    "df['date_cleaned'] = pd.to_datetime(\n",
    "    df['date'],\n",
    "    format='%b%d,%Y',\n",
    "    errors='coerce'\n",
    ")\n",
    "\n",
    "# Report parsing success\n",
    "parsed = df['date_cleaned'].notna().sum()\n",
    "\n",
    "# Define cutoff and label\n",
    "cutoff = pd.to_datetime('2020-06-01')\n",
    "df['period'] = np.where(df['date_cleaned'] < cutoff, 'pre', 'post')\n",
    "df.loc[df['date_cleaned'].isna(), 'period'] = pd.NA\n",
    "\n",
    "print(df['period'].value_counts(dropna=False))\n",
    "df[['date','date_cleaned','period']].head()\n"
   ]
  },
  {
   "cell_type": "code",
   "execution_count": 10,
   "metadata": {},
   "outputs": [
    {
     "name": "stdout",
     "output_type": "stream",
     "text": [
      "Top 25 Pre-Controversy Tokens:\n",
      "[('harry', 2851), ('book', 2224), ('potter', 1449), ('one', 1062), ('read', 1058), ('like', 1057), ('series', 987), ('time', 821), ('books', 746), ('im', 712), ('first', 706), ('love', 692), ('much', 672), ('really', 639), ('even', 609), ('know', 588), ('dont', 568), ('would', 562), ('reading', 520), ('still', 507), ('get', 499), ('characters', 499), ('world', 481), ('rowling', 475), ('story', 465)]\n"
     ]
    },
    {
     "data": {
      "text/plain": [
       "<Axes: xlabel='Samples', ylabel='Counts'>"
      ]
     },
     "execution_count": 10,
     "metadata": {},
     "output_type": "execute_result"
    },
    {
     "data": {
      "image/png": "[encoded data removed]",
      "text/plain": [
       "<Figure size 640x480 with 1 Axes>"
      ]
     },
     "metadata": {},
     "output_type": "display_data"
    }
   ],
   "source": [
    "# Gather all stop-word-filtered tokens for each period\n",
    "pre_tokens  = [tok for tokens in df.loc[df['period']=='pre',  'tokens_no_stopwords'] for tok in tokens]\n",
    "post_tokens = [tok for tokens in df.loc[df['period']=='post', 'tokens_no_stopwords'] for tok in tokens]\n",
    "\n",
    "# Compute & print the 25 most common pre-controversy tokens\n",
    "print(\"Top 25 Pre-Controversy Tokens:\")\n",
    "print(FreqDist(pre_tokens).most_common(25))\n",
    "FreqDist(pre_tokens).plot(25)"
   ]
  },
  {
   "cell_type": "code",
   "execution_count": 11,
   "metadata": {},
   "outputs": [
    {
     "name": "stdout",
     "output_type": "stream",
     "text": [
      "Top 25 Post-Controversy Tokens:\n",
      "[('harry', 210), ('book', 137), ('potter', 109), ('series', 93), ('one', 84), ('books', 74), ('much', 67), ('first', 55), ('time', 48), ('like', 48), ('read', 45), ('im', 45), ('things', 44), ('story', 44), ('rowling', 43), ('dont', 41), ('characters', 41), ('really', 38), ('would', 38), ('know', 38), ('even', 36), ('reading', 36), ('still', 36), ('way', 36), ('world', 34)]\n"
     ]
    },
    {
     "data": {
      "text/plain": [
       "<Axes: xlabel='Samples', ylabel='Counts'>"
      ]
     },
     "execution_count": 11,
     "metadata": {},
     "output_type": "execute_result"
    },
    {
     "data": {
      "image/png": "[encoded data removed]",
      "text/plain": [
       "<Figure size 640x480 with 1 Axes>"
      ]
     },
     "metadata": {},
     "output_type": "display_data"
    }
   ],
   "source": [
    "# Compute & print the 25 most common post-controversy tokens\n",
    "print(\"Top 25 Post-Controversy Tokens:\")\n",
    "print(FreqDist(post_tokens).most_common(25))\n",
    "FreqDist(post_tokens).plot(25)"
   ]
  },
  {
   "cell_type": "markdown",
   "metadata": {},
   "source": [
    "## Analysis/feature extraction"
   ]
  },
  {
   "cell_type": "markdown",
   "metadata": {
    "vscode": {
     "languageId": "plaintext"
    }
   },
   "source": [
    "##### Sentiment Analysis with TextBlob"
   ]
  },
  {
   "cell_type": "code",
   "execution_count": 12,
   "metadata": {},
   "outputs": [
    {
     "data": {
      "text/html": [
       "<div>\n",
       "<style scoped>\n",
       "    .dataframe tbody tr th:only-of-type {\n",
       "        vertical-align: middle;\n",
       "    }\n",
       "\n",
       "    .dataframe tbody tr th {\n",
       "        vertical-align: top;\n",
       "    }\n",
       "\n",
       "    .dataframe thead th {\n",
       "        text-align: right;\n",
       "    }\n",
       "</style>\n",
       "<table border=\"1\" class=\"dataframe\">\n",
       "  <thead>\n",
       "    <tr style=\"text-align: right;\">\n",
       "      <th></th>\n",
       "      <th>period</th>\n",
       "      <th>polarity</th>\n",
       "      <th>subjectivity</th>\n",
       "    </tr>\n",
       "  </thead>\n",
       "  <tbody>\n",
       "    <tr>\n",
       "      <th>0</th>\n",
       "      <td>pre</td>\n",
       "      <td>0.143440</td>\n",
       "      <td>0.481582</td>\n",
       "    </tr>\n",
       "    <tr>\n",
       "      <th>2</th>\n",
       "      <td>pre</td>\n",
       "      <td>0.137778</td>\n",
       "      <td>0.601296</td>\n",
       "    </tr>\n",
       "    <tr>\n",
       "      <th>3</th>\n",
       "      <td>pre</td>\n",
       "      <td>0.152623</td>\n",
       "      <td>0.600154</td>\n",
       "    </tr>\n",
       "    <tr>\n",
       "      <th>4</th>\n",
       "      <td>pre</td>\n",
       "      <td>0.194935</td>\n",
       "      <td>0.354954</td>\n",
       "    </tr>\n",
       "    <tr>\n",
       "      <th>5</th>\n",
       "      <td>pre</td>\n",
       "      <td>0.107737</td>\n",
       "      <td>0.458858</td>\n",
       "    </tr>\n",
       "  </tbody>\n",
       "</table>\n",
       "</div>"
      ],
      "text/plain": [
       "  period  polarity  subjectivity\n",
       "0    pre  0.143440      0.481582\n",
       "2    pre  0.137778      0.601296\n",
       "3    pre  0.152623      0.600154\n",
       "4    pre  0.194935      0.354954\n",
       "5    pre  0.107737      0.458858"
      ]
     },
     "execution_count": 12,
     "metadata": {},
     "output_type": "execute_result"
    }
   ],
   "source": [
    "# Compute polarity & subjectivity on the lemmatized string\n",
    "df['polarity']     = df['review_lemmas'].apply(lambda txt: TextBlob(txt).sentiment.polarity)\n",
    "df['subjectivity'] = df['review_lemmas'].apply(lambda txt: TextBlob(txt).sentiment.subjectivity)\n",
    "\n",
    "df[['period','polarity','subjectivity']].head()\n"
   ]
  },
  {
   "cell_type": "markdown",
   "metadata": {},
   "source": [
    "##### Summary Stats by period"
   ]
  },
  {
   "cell_type": "code",
   "execution_count": 13,
   "metadata": {},
   "outputs": [
    {
     "name": "stdout",
     "output_type": "stream",
     "text": [
      "        mean_polarity  median_polarity  std_polarity  review_count  \\\n",
      "period                                                               \n",
      "post         0.170486         0.155478      0.184769            47   \n",
      "pre          0.157371         0.150089      0.190229           642   \n",
      "\n",
      "        mean_subjectivity  median_subjectivity  std_subjectivity  \n",
      "period                                                            \n",
      "post             0.518766             0.521839          0.134043  \n",
      "pre              0.532935             0.549956          0.186551  \n"
     ]
    }
   ],
   "source": [
    "# Summary statistics by period\n",
    "sentiment_stats = df.groupby('period')[['polarity','subjectivity']].agg(\n",
    "    mean_polarity      = ('polarity',     'mean'),\n",
    "    median_polarity    = ('polarity',     'median'),\n",
    "    std_polarity       = ('polarity',     'std'),\n",
    "    review_count       = ('polarity',     'count'),\n",
    "    mean_subjectivity  = ('subjectivity', 'mean'),\n",
    "    median_subjectivity= ('subjectivity', 'median'),\n",
    "    std_subjectivity   = ('subjectivity', 'std')\n",
    ")\n",
    "print(sentiment_stats)"
   ]
  },
  {
   "cell_type": "markdown",
   "metadata": {},
   "source": [
    "##### Top lemmas pre vs post"
   ]
  },
  {
   "cell_type": "code",
   "execution_count": 14,
   "metadata": {},
   "outputs": [
    {
     "name": "stdout",
     "output_type": "stream",
     "text": [
      "Top 10 Pre‑controversy Words: [('book', 2970), ('harry', 2851), ('potter', 1497), ('one', 1133), ('like', 1069), ('read', 1067), ('time', 1021), ('series', 987), ('character', 783), ('love', 716)]\n",
      "Top 10 Post‑controversy Words: [('book', 211), ('harry', 210), ('potter', 109), ('series', 93), ('one', 89), ('much', 67), ('thing', 59), ('time', 58), ('first', 55), ('character', 52)]\n"
     ]
    }
   ],
   "source": [
    "from collections import Counter  # imports the Counter class to count how many times each item appears in a list\n",
    "\n",
    "# Flatten by summing lists \n",
    "pre_tokens  = df.loc[df['period']=='pre',  'lemmas'].sum()\n",
    "post_tokens = df.loc[df['period']=='post', 'lemmas'].sum()\n",
    "\n",
    "# Count & show the top 10\n",
    "top_pre  = Counter(pre_tokens).most_common(10)\n",
    "top_post = Counter(post_tokens).most_common(10)\n",
    "\n",
    "print(\"Top 10 Pre‑controversy Words:\",  top_pre)\n",
    "print(\"Top 10 Post‑controversy Words:\", top_post)\n"
   ]
  },
  {
   "cell_type": "markdown",
   "metadata": {},
   "source": [
    "#### Regression Analysis (OLS)"
   ]
  },
  {
   "cell_type": "code",
   "execution_count": 15,
   "metadata": {},
   "outputs": [
    {
     "name": "stdout",
     "output_type": "stream",
     "text": [
      "                            OLS Regression Results                            \n",
      "==============================================================================\n",
      "Dep. Variable:               polarity   R-squared:                       0.000\n",
      "Model:                            OLS   Adj. R-squared:                 -0.001\n",
      "Method:                 Least Squares   F-statistic:                    0.2089\n",
      "Date:                Sun, 27 Apr 2025   Prob (F-statistic):              0.648\n",
      "Time:                        22:08:46   Log-Likelihood:                 168.08\n",
      "No. Observations:                 689   AIC:                            -332.2\n",
      "Df Residuals:                     687   BIC:                            -323.1\n",
      "Df Model:                           1                                         \n",
      "Covariance Type:            nonrobust                                         \n",
      "==============================================================================\n",
      "                 coef    std err          t      P>|t|      [0.025      0.975]\n",
      "------------------------------------------------------------------------------\n",
      "Intercept      0.1574      0.007     21.001      0.000       0.143       0.172\n",
      "post_dummy     0.0131      0.029      0.457      0.648      -0.043       0.069\n",
      "==============================================================================\n",
      "Omnibus:                       97.322   Durbin-Watson:                   1.945\n",
      "Prob(Omnibus):                  0.000   Jarque-Bera (JB):              506.469\n",
      "Skew:                           0.503   Prob(JB):                    1.05e-110\n",
      "Kurtosis:                       7.078   Cond. No.                         3.99\n",
      "==============================================================================\n",
      "\n",
      "Notes:\n",
      "[1] Standard Errors assume that the covariance matrix of the errors is correctly specified.\n"
     ]
    }
   ],
   "source": [
    "import statsmodels.formula.api as smf\n",
    "\n",
    "# create new column 0 for pre‑controversy and 1 for post‑controversy reviews.\n",
    "df['post_dummy'] = (df['period'] == 'post').astype(int)\n",
    "\n",
    "# fit the model\n",
    "model = smf.ols('polarity ~ post_dummy', data=df).fit()\n",
    "print(model.summary())\n"
   ]
  },
  {
   "cell_type": "markdown",
   "metadata": {},
   "source": [
    "## Results"
   ]
  },
  {
   "cell_type": "markdown",
   "metadata": {
    "vscode": {
     "languageId": "plaintext"
    }
   },
   "source": [
    "### Visualization"
   ]
  },
  {
   "cell_type": "markdown",
   "metadata": {},
   "source": [
    "##### Boxplot of Polarity: Pre vs Post"
   ]
  },
  {
   "cell_type": "code",
   "execution_count": 16,
   "metadata": {},
   "outputs": [
    {
     "data": {
      "image/png": "[encoded data removed]",
      "text/plain": [
       "<Figure size 800x500 with 1 Axes>"
      ]
     },
     "metadata": {},
     "output_type": "display_data"
    }
   ],
   "source": [
    "plt.figure(figsize=(8,5))\n",
    "sns.boxplot(x='period', y='polarity', data=df)\n",
    "plt.title('Review Polarity: Pre vs Post Controversy')\n",
    "plt.xlabel('')\n",
    "plt.ylabel('Polarity Score')\n",
    "plt.show()"
   ]
  },
  {
   "cell_type": "markdown",
   "metadata": {},
   "source": [
    "##### Polarity Distribution Histogram"
   ]
  },
  {
   "cell_type": "code",
   "execution_count": 17,
   "metadata": {},
   "outputs": [
    {
     "data": {
      "image/png": "[encoded data removed]",
      "text/plain": [
       "<Figure size 800x500 with 1 Axes>"
      ]
     },
     "metadata": {},
     "output_type": "display_data"
    }
   ],
   "source": [
    "plt.figure(figsize=(8,5))\n",
    "sns.histplot(data=df, x='polarity', hue='period',\n",
    "             element='step', stat='density', common_norm=False, bins=30)\n",
    "plt.title('Polarity Distribution by Period')\n",
    "plt.xlabel('Polarity Score')\n",
    "plt.show()"
   ]
  },
  {
   "cell_type": "markdown",
   "metadata": {},
   "source": [
    "##### Correlation: Star Rating vs Text Polarity"
   ]
  },
  {
   "cell_type": "code",
   "execution_count": 18,
   "metadata": {},
   "outputs": [
    {
     "name": "stdout",
     "output_type": "stream",
     "text": [
      "Correlation between numeric rating and polarity: 0.15\n"
     ]
    }
   ],
   "source": [
    "corr = df[['stars_given','polarity']].dropna().corr().loc['stars_given','polarity']\n",
    "print(f\"Correlation between numeric rating and polarity: {corr:.2f}\")"
   ]
  },
  {
   "cell_type": "markdown",
   "metadata": {},
   "source": [
    "*A correlation of 0.15 is a weak positive relationship between the numeric star rating (1–5 stars) and the TextBlob polarity score. When polarity goes up, star ratings tend to go up as well but only slightly. A perfect correlation (1.0) would mean that text and stars always move together; 0.15 is far from that, indicating that many reviews’ star ratings don’t perfectly match the tone of their words.*"
   ]
  },
  {
   "cell_type": "markdown",
   "metadata": {},
   "source": [
    "#### Validating Review Samples"
   ]
  },
  {
   "cell_type": "code",
   "execution_count": 27,
   "metadata": {},
   "outputs": [
    {
     "data": {
      "text/html": [
       "<div>\n",
       "<style scoped>\n",
       "    .dataframe tbody tr th:only-of-type {\n",
       "        vertical-align: middle;\n",
       "    }\n",
       "\n",
       "    .dataframe tbody tr th {\n",
       "        vertical-align: top;\n",
       "    }\n",
       "\n",
       "    .dataframe thead th {\n",
       "        text-align: right;\n",
       "    }\n",
       "</style>\n",
       "<table border=\"1\" class=\"dataframe\">\n",
       "  <thead>\n",
       "    <tr style=\"text-align: right;\">\n",
       "      <th></th>\n",
       "      <th>date</th>\n",
       "      <th>stars_given</th>\n",
       "      <th>description</th>\n",
       "    </tr>\n",
       "  </thead>\n",
       "  <tbody>\n",
       "    <tr>\n",
       "      <th>94</th>\n",
       "      <td>Aug01,2013</td>\n",
       "      <td>5.0</td>\n",
       "      <td>(a) 86% | extraordinarynotes: it ends too expo...</td>\n",
       "    </tr>\n",
       "    <tr>\n",
       "      <th>215</th>\n",
       "      <td>Oct01,2015</td>\n",
       "      <td>4.0</td>\n",
       "      <td>okay. this book was fantastic! i can't get ove...</td>\n",
       "    </tr>\n",
       "    <tr>\n",
       "      <th>533</th>\n",
       "      <td>Jun26,2016</td>\n",
       "      <td>4.0</td>\n",
       "      <td>it's been a long time since i've read a play, ...</td>\n",
       "    </tr>\n",
       "    <tr>\n",
       "      <th>690</th>\n",
       "      <td>May01,2018</td>\n",
       "      <td>5.0</td>\n",
       "      <td>just when you think the pain cant get any worse</td>\n",
       "    </tr>\n",
       "    <tr>\n",
       "      <th>79</th>\n",
       "      <td>Sep13,2007</td>\n",
       "      <td>2.0</td>\n",
       "      <td>i read this long long ago to see how \"evil\" it...</td>\n",
       "    </tr>\n",
       "    <tr>\n",
       "      <th>660</th>\n",
       "      <td>Sep12,2011</td>\n",
       "      <td>5.0</td>\n",
       "      <td>spoilers for anyone who has never read the boo...</td>\n",
       "    </tr>\n",
       "    <tr>\n",
       "      <th>255</th>\n",
       "      <td>Aug15,2019</td>\n",
       "      <td>5.0</td>\n",
       "      <td>this held up well! on this read, i'm a little ...</td>\n",
       "    </tr>\n",
       "    <tr>\n",
       "      <th>624</th>\n",
       "      <td>Mar13,2013</td>\n",
       "      <td>4.0</td>\n",
       "      <td>i don't know why i thought i'd actually be abl...</td>\n",
       "    </tr>\n",
       "    <tr>\n",
       "      <th>442</th>\n",
       "      <td>Mar26,2013</td>\n",
       "      <td>5.0</td>\n",
       "      <td>re-read 12/17/20:well, it's a good sign, i thi...</td>\n",
       "    </tr>\n",
       "    <tr>\n",
       "      <th>519</th>\n",
       "      <td>Jan03,2017</td>\n",
       "      <td>4.0</td>\n",
       "      <td>\"harry, there is never a perfect answer in thi...</td>\n",
       "    </tr>\n",
       "    <tr>\n",
       "      <th>188</th>\n",
       "      <td>Dec22,2014</td>\n",
       "      <td>5.0</td>\n",
       "      <td>i have so much more love for this one re-readi...</td>\n",
       "    </tr>\n",
       "    <tr>\n",
       "      <th>335</th>\n",
       "      <td>Jan03,2013</td>\n",
       "      <td>5.0</td>\n",
       "      <td>i don't know what it is about all of my reread...</td>\n",
       "    </tr>\n",
       "    <tr>\n",
       "      <th>683</th>\n",
       "      <td>Feb03,2012</td>\n",
       "      <td>5.0</td>\n",
       "      <td>j.k. rowling uses the word “clambered” a lot. ...</td>\n",
       "    </tr>\n",
       "    <tr>\n",
       "      <th>89</th>\n",
       "      <td>Sep07,2019</td>\n",
       "      <td>5.0</td>\n",
       "      <td>just here to say hi to the best blockbuster bo...</td>\n",
       "    </tr>\n",
       "    <tr>\n",
       "      <th>290</th>\n",
       "      <td>Jul27,2018</td>\n",
       "      <td>5.0</td>\n",
       "      <td>full review and other non-spoilery reviews can...</td>\n",
       "    </tr>\n",
       "    <tr>\n",
       "      <th>584</th>\n",
       "      <td>Jul05,2013</td>\n",
       "      <td>5.0</td>\n",
       "      <td>1.) harry potter and the philosopher's stone ★...</td>\n",
       "    </tr>\n",
       "    <tr>\n",
       "      <th>554</th>\n",
       "      <td>Jul04,2017</td>\n",
       "      <td>5.0</td>\n",
       "      <td>“differences of habit and language are nothing...</td>\n",
       "    </tr>\n",
       "    <tr>\n",
       "      <th>329</th>\n",
       "      <td>Dec12,2016</td>\n",
       "      <td>5.0</td>\n",
       "      <td>*this was a reread for me*this has always been...</td>\n",
       "    </tr>\n",
       "    <tr>\n",
       "      <th>75</th>\n",
       "      <td>Dec07,2016</td>\n",
       "      <td>5.0</td>\n",
       "      <td>5/5 starshttps://emmareadstoomuch.wordpress.co...</td>\n",
       "    </tr>\n",
       "    <tr>\n",
       "      <th>12</th>\n",
       "      <td>Jan11,2020</td>\n",
       "      <td>4.0</td>\n",
       "      <td>(a-) 83% | very goodnotes: an effortless encha...</td>\n",
       "    </tr>\n",
       "    <tr>\n",
       "      <th>274</th>\n",
       "      <td>Dec11,2015</td>\n",
       "      <td>5.0</td>\n",
       "      <td>i finished this book with tears in my eyes and...</td>\n",
       "    </tr>\n",
       "    <tr>\n",
       "      <th>69</th>\n",
       "      <td>Nov26,2016</td>\n",
       "      <td>3.0</td>\n",
       "      <td>no matter what anyone says i am never doubting...</td>\n",
       "    </tr>\n",
       "    <tr>\n",
       "      <th>509</th>\n",
       "      <td>Feb13,2016</td>\n",
       "      <td>2.0</td>\n",
       "      <td>“love blinds. we have both tried to give our s...</td>\n",
       "    </tr>\n",
       "    <tr>\n",
       "      <th>59</th>\n",
       "      <td>Dec31,2017</td>\n",
       "      <td>5.0</td>\n",
       "      <td>why didn’t anyone tell me —haha —-i can’t use ...</td>\n",
       "    </tr>\n",
       "    <tr>\n",
       "      <th>586</th>\n",
       "      <td>Jun13,2015</td>\n",
       "      <td>5.0</td>\n",
       "      <td>“it is my belief... that the truth is generall...</td>\n",
       "    </tr>\n",
       "    <tr>\n",
       "      <th>309</th>\n",
       "      <td>Mar20,2018</td>\n",
       "      <td>5.0</td>\n",
       "      <td>hello, i think this is my favourite book in th...</td>\n",
       "    </tr>\n",
       "    <tr>\n",
       "      <th>581</th>\n",
       "      <td>Mar08,2013</td>\n",
       "      <td>5.0</td>\n",
       "      <td>is there anyone else out there who thinks gobl...</td>\n",
       "    </tr>\n",
       "    <tr>\n",
       "      <th>113</th>\n",
       "      <td>Mar21,2013</td>\n",
       "      <td>5.0</td>\n",
       "      <td>i remember when the hardback came out. wal-mar...</td>\n",
       "    </tr>\n",
       "    <tr>\n",
       "      <th>130</th>\n",
       "      <td>Jan07,2012</td>\n",
       "      <td>4.0</td>\n",
       "      <td>book review\\n\\n 4+ out of 5 stars to harry pot...</td>\n",
       "    </tr>\n",
       "    <tr>\n",
       "      <th>35</th>\n",
       "      <td>Nov10,2016</td>\n",
       "      <td>5.0</td>\n",
       "      <td>in 2020, i decided to reread the harry potter ...</td>\n",
       "    </tr>\n",
       "  </tbody>\n",
       "</table>\n",
       "</div>"
      ],
      "text/plain": [
       "           date  stars_given  \\\n",
       "94   Aug01,2013          5.0   \n",
       "215  Oct01,2015          4.0   \n",
       "533  Jun26,2016          4.0   \n",
       "690  May01,2018          5.0   \n",
       "79   Sep13,2007          2.0   \n",
       "660  Sep12,2011          5.0   \n",
       "255  Aug15,2019          5.0   \n",
       "624  Mar13,2013          4.0   \n",
       "442  Mar26,2013          5.0   \n",
       "519  Jan03,2017          4.0   \n",
       "188  Dec22,2014          5.0   \n",
       "335  Jan03,2013          5.0   \n",
       "683  Feb03,2012          5.0   \n",
       "89   Sep07,2019          5.0   \n",
       "290  Jul27,2018          5.0   \n",
       "584  Jul05,2013          5.0   \n",
       "554  Jul04,2017          5.0   \n",
       "329  Dec12,2016          5.0   \n",
       "75   Dec07,2016          5.0   \n",
       "12   Jan11,2020          4.0   \n",
       "274  Dec11,2015          5.0   \n",
       "69   Nov26,2016          3.0   \n",
       "509  Feb13,2016          2.0   \n",
       "59   Dec31,2017          5.0   \n",
       "586  Jun13,2015          5.0   \n",
       "309  Mar20,2018          5.0   \n",
       "581  Mar08,2013          5.0   \n",
       "113  Mar21,2013          5.0   \n",
       "130  Jan07,2012          4.0   \n",
       "35   Nov10,2016          5.0   \n",
       "\n",
       "                                           description  \n",
       "94   (a) 86% | extraordinarynotes: it ends too expo...  \n",
       "215  okay. this book was fantastic! i can't get ove...  \n",
       "533  it's been a long time since i've read a play, ...  \n",
       "690    just when you think the pain cant get any worse  \n",
       "79   i read this long long ago to see how \"evil\" it...  \n",
       "660  spoilers for anyone who has never read the boo...  \n",
       "255  this held up well! on this read, i'm a little ...  \n",
       "624  i don't know why i thought i'd actually be abl...  \n",
       "442  re-read 12/17/20:well, it's a good sign, i thi...  \n",
       "519  \"harry, there is never a perfect answer in thi...  \n",
       "188  i have so much more love for this one re-readi...  \n",
       "335  i don't know what it is about all of my reread...  \n",
       "683  j.k. rowling uses the word “clambered” a lot. ...  \n",
       "89   just here to say hi to the best blockbuster bo...  \n",
       "290  full review and other non-spoilery reviews can...  \n",
       "584  1.) harry potter and the philosopher's stone ★...  \n",
       "554  “differences of habit and language are nothing...  \n",
       "329  *this was a reread for me*this has always been...  \n",
       "75   5/5 starshttps://emmareadstoomuch.wordpress.co...  \n",
       "12   (a-) 83% | very goodnotes: an effortless encha...  \n",
       "274  i finished this book with tears in my eyes and...  \n",
       "69   no matter what anyone says i am never doubting...  \n",
       "509  “love blinds. we have both tried to give our s...  \n",
       "59   why didn’t anyone tell me —haha —-i can’t use ...  \n",
       "586  “it is my belief... that the truth is generall...  \n",
       "309  hello, i think this is my favourite book in th...  \n",
       "581  is there anyone else out there who thinks gobl...  \n",
       "113  i remember when the hardback came out. wal-mar...  \n",
       "130  book review\\n\\n 4+ out of 5 stars to harry pot...  \n",
       "35   in 2020, i decided to reread the harry potter ...  "
      ]
     },
     "metadata": {},
     "output_type": "display_data"
    },
    {
     "data": {
      "text/html": [
       "<div>\n",
       "<style scoped>\n",
       "    .dataframe tbody tr th:only-of-type {\n",
       "        vertical-align: middle;\n",
       "    }\n",
       "\n",
       "    .dataframe tbody tr th {\n",
       "        vertical-align: top;\n",
       "    }\n",
       "\n",
       "    .dataframe thead th {\n",
       "        text-align: right;\n",
       "    }\n",
       "</style>\n",
       "<table border=\"1\" class=\"dataframe\">\n",
       "  <thead>\n",
       "    <tr style=\"text-align: right;\">\n",
       "      <th></th>\n",
       "      <th>date</th>\n",
       "      <th>stars_given</th>\n",
       "      <th>description</th>\n",
       "    </tr>\n",
       "  </thead>\n",
       "  <tbody>\n",
       "    <tr>\n",
       "      <th>483</th>\n",
       "      <td>Aug19,2020</td>\n",
       "      <td>2.0</td>\n",
       "      <td>not gonna lie, i've read better fanfictions th...</td>\n",
       "    </tr>\n",
       "    <tr>\n",
       "      <th>635</th>\n",
       "      <td>Nov06,2020</td>\n",
       "      <td>5.0</td>\n",
       "      <td>best book ever</td>\n",
       "    </tr>\n",
       "    <tr>\n",
       "      <th>446</th>\n",
       "      <td>Jun17,2020</td>\n",
       "      <td>5.0</td>\n",
       "      <td>➵ harry potter and the philosopher's stone - ★...</td>\n",
       "    </tr>\n",
       "    <tr>\n",
       "      <th>682</th>\n",
       "      <td>Jul16,2020</td>\n",
       "      <td>5.0</td>\n",
       "      <td>“let us step into the night and pursue that fl...</td>\n",
       "    </tr>\n",
       "    <tr>\n",
       "      <th>416</th>\n",
       "      <td>Nov24,2021</td>\n",
       "      <td>4.0</td>\n",
       "      <td>i'm a strict mom, so at my house, you've got t...</td>\n",
       "    </tr>\n",
       "    <tr>\n",
       "      <th>621</th>\n",
       "      <td>Nov12,2020</td>\n",
       "      <td>5.0</td>\n",
       "      <td>the potter adventures continue in a series tha...</td>\n",
       "    </tr>\n",
       "    <tr>\n",
       "      <th>177</th>\n",
       "      <td>Jun23,2020</td>\n",
       "      <td>3.0</td>\n",
       "      <td>i've been up and down with this series and i f...</td>\n",
       "    </tr>\n",
       "    <tr>\n",
       "      <th>354</th>\n",
       "      <td>May13,2021</td>\n",
       "      <td>5.0</td>\n",
       "      <td>“things we lose have a way of coming back to u...</td>\n",
       "    </tr>\n",
       "    <tr>\n",
       "      <th>95</th>\n",
       "      <td>Aug04,2020</td>\n",
       "      <td>5.0</td>\n",
       "      <td>(a) 86% | extraordinarynotes: a bittersweet be...</td>\n",
       "    </tr>\n",
       "    <tr>\n",
       "      <th>438</th>\n",
       "      <td>Dec03,2020</td>\n",
       "      <td>5.0</td>\n",
       "      <td>reading this book feels like coming home. i lo...</td>\n",
       "    </tr>\n",
       "    <tr>\n",
       "      <th>143</th>\n",
       "      <td>Jun18,2020</td>\n",
       "      <td>5.0</td>\n",
       "      <td>i did it... i finished the series i always sai...</td>\n",
       "    </tr>\n",
       "    <tr>\n",
       "      <th>76</th>\n",
       "      <td>Jun19,2020</td>\n",
       "      <td>5.0</td>\n",
       "      <td>this is such a hugely popular series that my r...</td>\n",
       "    </tr>\n",
       "    <tr>\n",
       "      <th>136</th>\n",
       "      <td>Jul01,2021</td>\n",
       "      <td>5.0</td>\n",
       "      <td>harry potter and the deathly hallows is the ep...</td>\n",
       "    </tr>\n",
       "    <tr>\n",
       "      <th>636</th>\n",
       "      <td>Jan09,2021</td>\n",
       "      <td>5.0</td>\n",
       "      <td>\"5. should you feel that a family member, coll...</td>\n",
       "    </tr>\n",
       "    <tr>\n",
       "      <th>595</th>\n",
       "      <td>May13,2021</td>\n",
       "      <td>5.0</td>\n",
       "      <td>another year down at hogwarts which i enjoyed....</td>\n",
       "    </tr>\n",
       "    <tr>\n",
       "      <th>192</th>\n",
       "      <td>Dec26,2020</td>\n",
       "      <td>5.0</td>\n",
       "      <td>\"oy! presents!\"i'm flabbergasted, again. this ...</td>\n",
       "    </tr>\n",
       "    <tr>\n",
       "      <th>291</th>\n",
       "      <td>Nov06,2020</td>\n",
       "      <td>5.0</td>\n",
       "      <td>a new defense against the dark arts teacher, b...</td>\n",
       "    </tr>\n",
       "    <tr>\n",
       "      <th>691</th>\n",
       "      <td>Nov23,2020</td>\n",
       "      <td>5.0</td>\n",
       "      <td>this review has been hidden because it contain...</td>\n",
       "    </tr>\n",
       "    <tr>\n",
       "      <th>260</th>\n",
       "      <td>Jun22,2020</td>\n",
       "      <td>4.0</td>\n",
       "      <td>“you look in excellent health to me, potter, s...</td>\n",
       "    </tr>\n",
       "    <tr>\n",
       "      <th>150</th>\n",
       "      <td>Aug03,2020</td>\n",
       "      <td>4.0</td>\n",
       "      <td>“of course it is happening inside your head, h...</td>\n",
       "    </tr>\n",
       "    <tr>\n",
       "      <th>280</th>\n",
       "      <td>Jan05,2021</td>\n",
       "      <td>5.0</td>\n",
       "      <td>\"galloping gargoyles!\"\"hang on. this lord vold...</td>\n",
       "    </tr>\n",
       "    <tr>\n",
       "      <th>534</th>\n",
       "      <td>Jul09,2020</td>\n",
       "      <td>3.0</td>\n",
       "      <td>did i have problems with this? yes.was it perf...</td>\n",
       "    </tr>\n",
       "    <tr>\n",
       "      <th>589</th>\n",
       "      <td>Sep20,2020</td>\n",
       "      <td>5.0</td>\n",
       "      <td>bitches really think constantly rereading harr...</td>\n",
       "    </tr>\n",
       "    <tr>\n",
       "      <th>706</th>\n",
       "      <td>Jun04,2020</td>\n",
       "      <td>4.0</td>\n",
       "      <td>hello, 911? yeah, i just witnessed an illegal ...</td>\n",
       "    </tr>\n",
       "    <tr>\n",
       "      <th>34</th>\n",
       "      <td>Jul09,2021</td>\n",
       "      <td>5.0</td>\n",
       "      <td>it´s never too late to get back to magic schoo...</td>\n",
       "    </tr>\n",
       "    <tr>\n",
       "      <th>563</th>\n",
       "      <td>Nov25,2020</td>\n",
       "      <td>5.0</td>\n",
       "      <td>my long time favourite. and the long mistreatm...</td>\n",
       "    </tr>\n",
       "    <tr>\n",
       "      <th>550</th>\n",
       "      <td>Dec30,2020</td>\n",
       "      <td>5.0</td>\n",
       "      <td>\"i is a good elf\"it's been proven three times ...</td>\n",
       "    </tr>\n",
       "    <tr>\n",
       "      <th>96</th>\n",
       "      <td>Jan14,2021</td>\n",
       "      <td>5.0</td>\n",
       "      <td>\"oi! there's a war going on here!\"\"merlin's pa...</td>\n",
       "    </tr>\n",
       "    <tr>\n",
       "      <th>172</th>\n",
       "      <td>Feb05,2021</td>\n",
       "      <td>5.0</td>\n",
       "      <td>what are the deathly hallows?can voldemort be ...</td>\n",
       "    </tr>\n",
       "    <tr>\n",
       "      <th>613</th>\n",
       "      <td>Sep18,2020</td>\n",
       "      <td>5.0</td>\n",
       "      <td>this review has been hidden because it contain...</td>\n",
       "    </tr>\n",
       "  </tbody>\n",
       "</table>\n",
       "</div>"
      ],
      "text/plain": [
       "           date  stars_given  \\\n",
       "483  Aug19,2020          2.0   \n",
       "635  Nov06,2020          5.0   \n",
       "446  Jun17,2020          5.0   \n",
       "682  Jul16,2020          5.0   \n",
       "416  Nov24,2021          4.0   \n",
       "621  Nov12,2020          5.0   \n",
       "177  Jun23,2020          3.0   \n",
       "354  May13,2021          5.0   \n",
       "95   Aug04,2020          5.0   \n",
       "438  Dec03,2020          5.0   \n",
       "143  Jun18,2020          5.0   \n",
       "76   Jun19,2020          5.0   \n",
       "136  Jul01,2021          5.0   \n",
       "636  Jan09,2021          5.0   \n",
       "595  May13,2021          5.0   \n",
       "192  Dec26,2020          5.0   \n",
       "291  Nov06,2020          5.0   \n",
       "691  Nov23,2020          5.0   \n",
       "260  Jun22,2020          4.0   \n",
       "150  Aug03,2020          4.0   \n",
       "280  Jan05,2021          5.0   \n",
       "534  Jul09,2020          3.0   \n",
       "589  Sep20,2020          5.0   \n",
       "706  Jun04,2020          4.0   \n",
       "34   Jul09,2021          5.0   \n",
       "563  Nov25,2020          5.0   \n",
       "550  Dec30,2020          5.0   \n",
       "96   Jan14,2021          5.0   \n",
       "172  Feb05,2021          5.0   \n",
       "613  Sep18,2020          5.0   \n",
       "\n",
       "                                           description  \n",
       "483  not gonna lie, i've read better fanfictions th...  \n",
       "635                                     best book ever  \n",
       "446  ➵ harry potter and the philosopher's stone - ★...  \n",
       "682  “let us step into the night and pursue that fl...  \n",
       "416  i'm a strict mom, so at my house, you've got t...  \n",
       "621  the potter adventures continue in a series tha...  \n",
       "177  i've been up and down with this series and i f...  \n",
       "354  “things we lose have a way of coming back to u...  \n",
       "95   (a) 86% | extraordinarynotes: a bittersweet be...  \n",
       "438  reading this book feels like coming home. i lo...  \n",
       "143  i did it... i finished the series i always sai...  \n",
       "76   this is such a hugely popular series that my r...  \n",
       "136  harry potter and the deathly hallows is the ep...  \n",
       "636  \"5. should you feel that a family member, coll...  \n",
       "595  another year down at hogwarts which i enjoyed....  \n",
       "192  \"oy! presents!\"i'm flabbergasted, again. this ...  \n",
       "291  a new defense against the dark arts teacher, b...  \n",
       "691  this review has been hidden because it contain...  \n",
       "260  “you look in excellent health to me, potter, s...  \n",
       "150  “of course it is happening inside your head, h...  \n",
       "280  \"galloping gargoyles!\"\"hang on. this lord vold...  \n",
       "534  did i have problems with this? yes.was it perf...  \n",
       "589  bitches really think constantly rereading harr...  \n",
       "706  hello, 911? yeah, i just witnessed an illegal ...  \n",
       "34   it´s never too late to get back to magic schoo...  \n",
       "563  my long time favourite. and the long mistreatm...  \n",
       "550  \"i is a good elf\"it's been proven three times ...  \n",
       "96   \"oi! there's a war going on here!\"\"merlin's pa...  \n",
       "172  what are the deathly hallows?can voldemort be ...  \n",
       "613  this review has been hidden because it contain...  "
      ]
     },
     "metadata": {},
     "output_type": "display_data"
    }
   ],
   "source": [
    "# Randomly sample 30 ‘pre’-June-2020 reviews\n",
    "sample_pre = df[df['period']=='pre'].sample(n=30, random_state=42) # random state is similar to set seed which helps with \"random\" split each time\n",
    "\n",
    "# Randomly sample 30 ‘post’-June-2020 reviews\n",
    "sample_post = df[df['period']=='post'].sample(n=30, random_state=42)\n",
    "\n",
    "display(sample_pre[['date', 'stars_given', 'description']])\n",
    "display(sample_post[['date', 'stars_given', 'description']])\n"
   ]
  },
  {
   "cell_type": "markdown",
   "metadata": {},
   "source": [
    "*Both before and after June 2020, readers almost always gave 4–5 stars and used upbeat words like “fantastic,” “held up well,” and “bittersweet beauty.” We saw almost no mentions of Rowling’s politics or the controversy. This matches our automated results, which showed a small bump in average positivity (about 0.16 to 0.17) and a slight drop in subjectivity (about 0.53 to 0.52). In short, reviewers stayed just as positive and story-focused even after the controversy.*"
   ]
  },
  {
   "cell_type": "markdown",
   "metadata": {},
   "source": [
    "## Discussion and Conclusion"
   ]
  },
  {
   "cell_type": "markdown",
   "metadata": {},
   "source": [
    "*We measured polarity (how positive vs. negative a review reads) with TextBlob, and instead of dropping after the controversy, it crept up from 0.157 to 0.170 on average. That’s small, but statistically consistent across reviews. We also looked at subjectivity scores (how much opinion vs. objective description), and they dipped a bit post-controversy (0.533 to 0.519). In other words, reviewers actually wrote more “matter-of-fact” language, not more heated emotional reactions. The word-counts before and after still revolved around “harry,” “potter,” “book,” etc. with no flood of terms like “transphobia,” “Rowling,” or “TERF” in the actual book reviews. These unexpected results raise several puzzles, for example, Why did readers keep praising the story so warmly, even if they might have disagreed with Rowling personally? Were fans deliberately excluding their feelings about Rowling from their book reviews? Did many reviewers perhaps post their thoughts before news of the controversy even reached them?*\n",
    "\n",
    "*We assumed that once Rowling’s views became widely known, fans would either vent in their reviews or at least lower their ratings. Instead, reviews stayed as positive or more so than before. Possible reasons include: people who write on Kaggle/Goodreads are often die-hard fans more interested in discussing plot, characterization, and world-building than author controversies; our source is a Kaggle dataset, and the curator might have trimmed out the angriest or most negative reviews so we could be missing exactly those posts; and many readers may view book reviews as a space to critique the story itself, choosing other channels (social media, personal blogs) to debate the author’s politics.*\n",
    "\n",
    "*The main limitation is sample imbalance, only 47 reviews in the post-June 2020 window versus 642 pre-July, so small swings look large. Kaggle datasets are manually assembled; the uploader might have deliberately excluded very negative opinions, skewing our view. Also, TextBlob’s polarity metric is a single number per review and can’t catch sarcasm, mixed sentiment, or explicit author mentions (e.g. “Rowling’s comments don’t change my love for Hogwarts” ends up in the same bin as a review that never mentions her).*\n",
    "\n",
    "*For future work, we could pull reviews from multiple platforms (Amazon, Barnes & Noble, fan forums) and social-media posts tagged #HarryPotter for a fuller picture, extend the post-controversy window to smooth out posting delays, and use more advanced analysis like topic-aspect sentiment to score author mentions separately, sarcasm detection, and models that handle mixed or nuanced emotion rather than a single good/bad polarity.*  \n"
   ]
  }
 ],
 "metadata": {
  "kernelspec": {
   "display_name": "Python 3 (ipykernel)",
   "language": "python",
   "name": "python3"
  },
  "language_info": {
   "codemirror_mode": {
    "name": "ipython",
    "version": 3
   },
   "file_extension": ".py",
   "mimetype": "text/x-python",
   "name": "python",
   "nbconvert_exporter": "python",
   "pygments_lexer": "ipython3",
   "version": "3.12.6"
  }
 },
 "nbformat": 4,
 "nbformat_minor": 4
}
